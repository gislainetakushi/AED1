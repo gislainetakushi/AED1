{
 "cells": [
  {
   "cell_type": "code",
   "execution_count": 1,
   "id": "406742a9-ff9f-4a38-891a-a112f7f2a7d7",
   "metadata": {},
   "outputs": [
    {
     "name": "stdin",
     "output_type": "stream",
     "text": [
      "Digite uma frase:  Batatinha quando nasce\n"
     ]
    },
    {
     "name": "stdout",
     "output_type": "stream",
     "text": [
      "Frase normalizada: batatinha_quando_nasce\n"
     ]
    }
   ],
   "source": [
    "#Exercício 1\n",
    "frase = input(\"Digite uma frase: \")\n",
    "def normalizar (frase):\n",
    "    frase = frase.lower()\n",
    "    palavras = frase.split()\n",
    "    sem_espaco = ' '.join(palavras)\n",
    "    frase_normalizada = sem_espaco.replace(' ', '_')\n",
    "\n",
    "    return frase_normalizada\n",
    "resultado = normalizar(frase)\n",
    "print(f\"Frase normalizada: {resultado}\")"
   ]
  },
  {
   "cell_type": "code",
   "execution_count": 3,
   "id": "e262f92f-59af-4b99-880e-905da2a2bf37",
   "metadata": {},
   "outputs": [
    {
     "name": "stdout",
     "output_type": "stream",
     "text": [
      "A média das vendas restantes: R$ 206.67\n"
     ]
    }
   ],
   "source": [
    "#Exercício 2 com a lista pré-estabelecida \n",
    "vendas = [120, 85, 300, 55, 200, 95]\n",
    "vendas_filtradas = []\n",
    "for venda in vendas:\n",
    "    if venda >= 100:\n",
    "        vendas_filtradas.append(venda)\n",
    "\n",
    "if vendas_filtradas:  \n",
    "    media_vendas = sum(vendas_filtradas) / len(vendas_filtradas)\n",
    "    print(f\"A média das vendas restantes: R$ {media_vendas:.2f}\")\n",
    "else:\n",
    "    print(\"Não há vendas acima de R$ 100,00 para calcular a média.\")"
   ]
  },
  {
   "cell_type": "code",
   "execution_count": 4,
   "id": "33af1e9d-b186-414d-a658-42f724874676",
   "metadata": {},
   "outputs": [
    {
     "name": "stdin",
     "output_type": "stream",
     "text": [
      "Quantas vendas deseja inserir?  6\n",
      "Digite o valor da venda 1:  120\n",
      "Digite o valor da venda 2:  85\n",
      "Digite o valor da venda 3:  300\n",
      "Digite o valor da venda 4:  55\n",
      "Digite o valor da venda 5:  200\n",
      "Digite o valor da venda 6:  95\n"
     ]
    },
    {
     "name": "stdout",
     "output_type": "stream",
     "text": [
      "Média das vendas restantes: R$ 206.67\n"
     ]
    }
   ],
   "source": [
    "#Exercício 2 pedindo ao usuário que coloque os números na lista \n",
    "num_vendas = int(input(\"Quantas vendas deseja inserir? \"))\n",
    "vendas = []\n",
    "for i in range(num_vendas):\n",
    "    venda = float(input(f\"Digite o valor da venda {i+1}: \"))\n",
    "    vendas.append(venda)\n",
    "vendas_filtradas = []\n",
    "for venda in vendas:\n",
    "    if venda >= 100:\n",
    "        vendas_filtradas.append(venda)\n",
    "\n",
    "if vendas_filtradas: \n",
    "    media_vendas = sum(vendas_filtradas) / len(vendas_filtradas)\n",
    "    print(f\"Média das vendas restantes: R$ {media_vendas:.2f}\")\n",
    "else:\n",
    "    print(\"Não há vendas suficientes acima de R$ 100,00 para calcular a média.\")"
   ]
  },
  {
   "cell_type": "code",
   "execution_count": 8,
   "id": "e6fa6174-ebfb-418c-9e37-bce49fbba14f",
   "metadata": {},
   "outputs": [
    {
     "name": "stdin",
     "output_type": "stream",
     "text": [
      "Digite x1:  2\n",
      "Digite y1:  2\n",
      "Digite x2:  3\n",
      "Digite y2:  3\n",
      "Digite x3:  4\n",
      "Digite y3:  4\n"
     ]
    },
    {
     "name": "stdout",
     "output_type": "stream",
     "text": [
      "Distância média: 4.2\n"
     ]
    }
   ],
   "source": [
    "#Exercício 3\n",
    "import math\n",
    "\n",
    "def calcular_distancia(x, y):\n",
    "    return math.sqrt(x**2 + y**2)\n",
    "\n",
    "def distancia_media():\n",
    "    distancias = []  \n",
    "\n",
    "    for i in range(1, 4):\n",
    "        x = float(input(f\"Digite x{i}: \"))\n",
    "        y = float(input(f\"Digite y{i}: \"))\n",
    "        \n",
    "        distancia = calcular_distancia(x, y)\n",
    "        distancias.append(distancia)  \n",
    "    distancia_media = sum(distancias) / len(distancias)    \n",
    "    print(f\"Distância média: {distancia_media:.1f}\")\n",
    "\n",
    "distancia_media()"
   ]
  },
  {
   "cell_type": "code",
   "execution_count": 7,
   "id": "351ee2b4-b2bb-454a-a2ae-4f2b3131d555",
   "metadata": {},
   "outputs": [
    {
     "name": "stdin",
     "output_type": "stream",
     "text": [
      "Digite uma frase:  batatinha quando nasce espalha rama quando nasce\n"
     ]
    },
    {
     "name": "stdout",
     "output_type": "stream",
     "text": [
      "Frequência de palavras: {'batatinha': 1, 'quando': 2, 'nasce': 2, 'espalha': 1, 'rama': 1}\n"
     ]
    }
   ],
   "source": [
    "#Exercício 4\n",
    "def contar_frequencia():\n",
    "    frase = input(\"Digite uma frase: \")\n",
    "    palavras = frase.split()\n",
    "    \n",
    "    contagem = {}\n",
    "    for palavra in palavras:\n",
    "        palavra = palavra.lower() \n",
    "        if palavra in contagem:\n",
    "            contagem[palavra] += 1\n",
    "        else:\n",
    "            contagem[palavra] = 1\n",
    "    print(f\"Frequência de palavras: {contagem}\")\n",
    "\n",
    "contar_frequencia()"
   ]
  },
  {
   "cell_type": "code",
   "execution_count": null,
   "id": "7e73d037-459b-4ab2-a68b-3cf7d7d877b6",
   "metadata": {},
   "outputs": [],
   "source": []
  }
 ],
 "metadata": {
  "kernelspec": {
   "display_name": "Python 3 (ipykernel)",
   "language": "python",
   "name": "python3"
  },
  "language_info": {
   "codemirror_mode": {
    "name": "ipython",
    "version": 3
   },
   "file_extension": ".py",
   "mimetype": "text/x-python",
   "name": "python",
   "nbconvert_exporter": "python",
   "pygments_lexer": "ipython3",
   "version": "3.12.4"
  }
 },
 "nbformat": 4,
 "nbformat_minor": 5
}
