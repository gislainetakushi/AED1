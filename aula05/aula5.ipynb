{
 "cells": [
  {
   "cell_type": "code",
   "execution_count": 1,
   "id": "c13a740a-8bfe-4de5-b3d3-9ed1919f11de",
   "metadata": {},
   "outputs": [
    {
     "name": "stdout",
     "output_type": "stream",
     "text": [
      "Olá Mundo!\n"
     ]
    }
   ],
   "source": [
    "print(\"Olá Mundo!\")"
   ]
  },
  {
   "cell_type": "code",
   "execution_count": 2,
   "id": "e59f7ed1-33ba-4173-af3b-e5ac6ef997e8",
   "metadata": {},
   "outputs": [
    {
     "data": {
      "text/plain": [
       "10"
      ]
     },
     "execution_count": 2,
     "metadata": {},
     "output_type": "execute_result"
    }
   ],
   "source": [
    "5+5"
   ]
  },
  {
   "cell_type": "code",
   "execution_count": 3,
   "id": "9c01d0f4-db02-45fa-8155-108db9b46380",
   "metadata": {},
   "outputs": [],
   "source": [
    "nome = \"Gislaine\""
   ]
  },
  {
   "cell_type": "code",
   "execution_count": 4,
   "id": "07a1a968-a960-4302-b2f3-4f98cee81720",
   "metadata": {},
   "outputs": [
    {
     "data": {
      "text/plain": [
       "'Gislaine'"
      ]
     },
     "execution_count": 4,
     "metadata": {},
     "output_type": "execute_result"
    }
   ],
   "source": [
    "nome"
   ]
  },
  {
   "cell_type": "code",
   "execution_count": 5,
   "id": "b3f1c59b-1542-4ee8-9819-57bdb2b84585",
   "metadata": {},
   "outputs": [
    {
     "name": "stdout",
     "output_type": "stream",
     "text": [
      "Gislaine\n"
     ]
    }
   ],
   "source": [
    "print(nome)"
   ]
  },
  {
   "cell_type": "code",
   "execution_count": 6,
   "id": "647a008a-5074-4b41-a4e6-532a5a90dd6f",
   "metadata": {},
   "outputs": [],
   "source": [
    "x = 345"
   ]
  },
  {
   "cell_type": "code",
   "execution_count": 12,
   "id": "ff9caa0e-83d6-4a41-a53b-6a37680746c7",
   "metadata": {},
   "outputs": [],
   "source": [
    "b = 4"
   ]
  },
  {
   "cell_type": "code",
   "execution_count": 7,
   "id": "c5c1fccd-b1a2-4c3a-b1a1-6202725ce3cb",
   "metadata": {},
   "outputs": [],
   "source": [
    "y = x + 2"
   ]
  },
  {
   "cell_type": "code",
   "execution_count": 19,
   "id": "7b6bf74e-9d67-4985-b725-6d0b863bc8cc",
   "metadata": {},
   "outputs": [
    {
     "data": {
      "text/plain": [
       "3"
      ]
     },
     "execution_count": 19,
     "metadata": {},
     "output_type": "execute_result"
    }
   ],
   "source": [
    "c"
   ]
  },
  {
   "cell_type": "code",
   "execution_count": 18,
   "id": "f7081907-4b92-4eeb-a38a-0d2d84aee12f",
   "metadata": {},
   "outputs": [],
   "source": [
    "c = 3"
   ]
  },
  {
   "cell_type": "code",
   "execution_count": 8,
   "id": "5e0e3e89-150e-47d0-a1df-a0bae250213a",
   "metadata": {},
   "outputs": [
    {
     "data": {
      "text/plain": [
       "347"
      ]
     },
     "execution_count": 8,
     "metadata": {},
     "output_type": "execute_result"
    }
   ],
   "source": [
    "y"
   ]
  },
  {
   "cell_type": "code",
   "execution_count": 17,
   "id": "882c6747-afbc-4871-8331-e40a9bb896fb",
   "metadata": {},
   "outputs": [],
   "source": [
    "y = (x + (3 * b))/((2 * x) + c)"
   ]
  },
  {
   "cell_type": "code",
   "execution_count": 20,
   "id": "f54ec4ec-8204-43db-9884-eee5ea74f05a",
   "metadata": {},
   "outputs": [
    {
     "name": "stdout",
     "output_type": "stream",
     "text": [
      "0.5151515151515151\n"
     ]
    }
   ],
   "source": [
    "print(y)"
   ]
  },
  {
   "cell_type": "code",
   "execution_count": 21,
   "id": "7a8eb54c-d860-4d42-80a2-abb68de58318",
   "metadata": {},
   "outputs": [],
   "source": [
    "a = 5"
   ]
  },
  {
   "cell_type": "code",
   "execution_count": 22,
   "id": "55b8bfb9-5656-4791-8e73-9e6c86386a92",
   "metadata": {},
   "outputs": [
    {
     "data": {
      "text/plain": [
       "int"
      ]
     },
     "execution_count": 22,
     "metadata": {},
     "output_type": "execute_result"
    }
   ],
   "source": [
    "type(a)"
   ]
  },
  {
   "cell_type": "code",
   "execution_count": 23,
   "id": "caf9dee8-ffff-4376-bb47-31a160aedfda",
   "metadata": {},
   "outputs": [],
   "source": [
    "a = True "
   ]
  },
  {
   "cell_type": "code",
   "execution_count": 24,
   "id": "034a74c8-e311-480b-9b1a-c35f2ffb2283",
   "metadata": {},
   "outputs": [
    {
     "data": {
      "text/plain": [
       "bool"
      ]
     },
     "execution_count": 24,
     "metadata": {},
     "output_type": "execute_result"
    }
   ],
   "source": [
    "type(a)"
   ]
  },
  {
   "cell_type": "code",
   "execution_count": 25,
   "id": "63c43014-35f6-4ab2-abf8-2289a5f05f4e",
   "metadata": {},
   "outputs": [],
   "source": [
    "a = 5.6"
   ]
  },
  {
   "cell_type": "code",
   "execution_count": 26,
   "id": "ec241397-ca1b-4f3e-841f-f984d02145c6",
   "metadata": {},
   "outputs": [
    {
     "data": {
      "text/plain": [
       "float"
      ]
     },
     "execution_count": 26,
     "metadata": {},
     "output_type": "execute_result"
    }
   ],
   "source": [
    "type(a)"
   ]
  },
  {
   "cell_type": "code",
   "execution_count": 27,
   "id": "4f674bfd-811c-43fb-bcd4-8ef7a98230bc",
   "metadata": {},
   "outputs": [],
   "source": [
    "x = 45\n",
    "y = 23"
   ]
  },
  {
   "cell_type": "code",
   "execution_count": 28,
   "id": "165aa54b-44f2-4fad-a78c-16f80f639da1",
   "metadata": {},
   "outputs": [],
   "source": [
    "soma = x + y"
   ]
  },
  {
   "cell_type": "code",
   "execution_count": 29,
   "id": "f3663d79-9d2b-41d6-bc92-e4b10f46efb7",
   "metadata": {},
   "outputs": [
    {
     "data": {
      "text/plain": [
       "int"
      ]
     },
     "execution_count": 29,
     "metadata": {},
     "output_type": "execute_result"
    }
   ],
   "source": [
    "type(soma)"
   ]
  },
  {
   "cell_type": "code",
   "execution_count": 31,
   "id": "7be73ff0-f27d-4e61-95ed-d2735d0fcd55",
   "metadata": {},
   "outputs": [
    {
     "name": "stdout",
     "output_type": "stream",
     "text": [
      "68\n"
     ]
    }
   ],
   "source": [
    "print(soma)"
   ]
  },
  {
   "cell_type": "code",
   "execution_count": 32,
   "id": "94b8191e-ac72-4bd7-bbb4-f7a79b186661",
   "metadata": {},
   "outputs": [
    {
     "data": {
      "text/plain": [
       "1.9565217391304348"
      ]
     },
     "execution_count": 32,
     "metadata": {},
     "output_type": "execute_result"
    }
   ],
   "source": [
    "x / y"
   ]
  },
  {
   "cell_type": "code",
   "execution_count": 33,
   "id": "be6c2685-9abb-4820-b6da-54ade023cb77",
   "metadata": {},
   "outputs": [
    {
     "data": {
      "text/plain": [
       "1"
      ]
     },
     "execution_count": 33,
     "metadata": {},
     "output_type": "execute_result"
    }
   ],
   "source": [
    "x // y"
   ]
  },
  {
   "cell_type": "code",
   "execution_count": 34,
   "id": "c53400c9-0232-43d5-874e-fbaf310edcef",
   "metadata": {},
   "outputs": [
    {
     "data": {
      "text/plain": [
       "22"
      ]
     },
     "execution_count": 34,
     "metadata": {},
     "output_type": "execute_result"
    }
   ],
   "source": [
    "x % y"
   ]
  },
  {
   "cell_type": "code",
   "execution_count": 35,
   "id": "26230f34-3330-426e-a857-03ac8fdfc4f6",
   "metadata": {},
   "outputs": [],
   "source": [
    "r = 10_000_000_000"
   ]
  },
  {
   "cell_type": "code",
   "execution_count": 36,
   "id": "c39b12a1-8409-467d-9286-1a52acb9fd91",
   "metadata": {},
   "outputs": [
    {
     "data": {
      "text/plain": [
       "10000000000"
      ]
     },
     "execution_count": 36,
     "metadata": {},
     "output_type": "execute_result"
    }
   ],
   "source": [
    "r"
   ]
  },
  {
   "cell_type": "code",
   "execution_count": 37,
   "id": "047c258a-bf93-43da-8b87-0127ef34cf05",
   "metadata": {},
   "outputs": [
    {
     "data": {
      "text/plain": [
       "105654455657631171893227100372314453125"
      ]
     },
     "execution_count": 37,
     "metadata": {},
     "output_type": "execute_result"
    }
   ],
   "source": [
    "x ** y"
   ]
  },
  {
   "cell_type": "code",
   "execution_count": 1,
   "id": "c919bece-0eba-49cd-9e7b-15ce7fba8ce2",
   "metadata": {},
   "outputs": [],
   "source": [
    "y = 4.5"
   ]
  },
  {
   "cell_type": "code",
   "execution_count": 2,
   "id": "0d9ce928-b1b2-44f3-b9c6-2d31751d5a4e",
   "metadata": {},
   "outputs": [
    {
     "data": {
      "text/plain": [
       "float"
      ]
     },
     "execution_count": 2,
     "metadata": {},
     "output_type": "execute_result"
    }
   ],
   "source": [
    "type(y)"
   ]
  },
  {
   "cell_type": "code",
   "execution_count": 3,
   "id": "82c7edcd-43e8-44eb-b8b9-ba52c6415f40",
   "metadata": {},
   "outputs": [
    {
     "data": {
      "text/plain": [
       "4"
      ]
     },
     "execution_count": 3,
     "metadata": {},
     "output_type": "execute_result"
    }
   ],
   "source": [
    "int(y)"
   ]
  },
  {
   "cell_type": "code",
   "execution_count": 4,
   "id": "4107f6bf-68d6-4e50-9c7f-95cae624a17f",
   "metadata": {},
   "outputs": [],
   "source": [
    "x = True "
   ]
  },
  {
   "cell_type": "code",
   "execution_count": 5,
   "id": "75e98604-5ba3-4ed3-9e41-4a597d12ef7e",
   "metadata": {},
   "outputs": [
    {
     "data": {
      "text/plain": [
       "True"
      ]
     },
     "execution_count": 5,
     "metadata": {},
     "output_type": "execute_result"
    }
   ],
   "source": [
    "x"
   ]
  },
  {
   "cell_type": "code",
   "execution_count": 6,
   "id": "80ada568-9a65-42f4-bec4-301b04838874",
   "metadata": {},
   "outputs": [],
   "source": [
    "y = False "
   ]
  },
  {
   "cell_type": "code",
   "execution_count": 7,
   "id": "6929e5f1-2914-4854-8164-86567163fced",
   "metadata": {},
   "outputs": [
    {
     "data": {
      "text/plain": [
       "False"
      ]
     },
     "execution_count": 7,
     "metadata": {},
     "output_type": "execute_result"
    }
   ],
   "source": [
    "x and y"
   ]
  },
  {
   "cell_type": "code",
   "execution_count": 8,
   "id": "d702ec52-9c28-4cd5-bb9c-ac361cb8cd4f",
   "metadata": {},
   "outputs": [
    {
     "data": {
      "text/plain": [
       "True"
      ]
     },
     "execution_count": 8,
     "metadata": {},
     "output_type": "execute_result"
    }
   ],
   "source": [
    "x or y"
   ]
  },
  {
   "cell_type": "code",
   "execution_count": 9,
   "id": "191580b9-f11c-49b9-bb18-7abf678bbff8",
   "metadata": {},
   "outputs": [
    {
     "data": {
      "text/plain": [
       "False"
      ]
     },
     "execution_count": 9,
     "metadata": {},
     "output_type": "execute_result"
    }
   ],
   "source": [
    "not x "
   ]
  },
  {
   "cell_type": "code",
   "execution_count": 10,
   "id": "3e6e3653-ebc1-43e8-9c7a-eefe220c80db",
   "metadata": {},
   "outputs": [],
   "source": [
    "nome = \"Gislaine\""
   ]
  },
  {
   "cell_type": "code",
   "execution_count": 11,
   "id": "0a7b4cd1-8886-4b2f-a448-954913ac7e64",
   "metadata": {},
   "outputs": [
    {
     "data": {
      "text/plain": [
       "str"
      ]
     },
     "execution_count": 11,
     "metadata": {},
     "output_type": "execute_result"
    }
   ],
   "source": [
    "type(nome)"
   ]
  },
  {
   "cell_type": "code",
   "execution_count": 12,
   "id": "bb013556-fb58-412a-b201-9904e99560e0",
   "metadata": {},
   "outputs": [],
   "source": [
    "prenome = 'Oliveira'"
   ]
  },
  {
   "cell_type": "code",
   "execution_count": 13,
   "id": "19af426a-dbf5-4fcd-8762-54e946c24687",
   "metadata": {},
   "outputs": [],
   "source": [
    "nome_completo = prenome + ' ' + nome"
   ]
  },
  {
   "cell_type": "code",
   "execution_count": 14,
   "id": "55f37468-f717-4e2f-96be-6518e8bd1d64",
   "metadata": {},
   "outputs": [
    {
     "data": {
      "text/plain": [
       "'Oliveira Gislaine'"
      ]
     },
     "execution_count": 14,
     "metadata": {},
     "output_type": "execute_result"
    }
   ],
   "source": [
    "nome_completo"
   ]
  },
  {
   "cell_type": "code",
   "execution_count": 15,
   "id": "dc85f731-72fb-4afd-b851-7cca7d8b6052",
   "metadata": {},
   "outputs": [
    {
     "data": {
      "text/plain": [
       "'GislaineGislaineGislaineGislaine'"
      ]
     },
     "execution_count": 15,
     "metadata": {},
     "output_type": "execute_result"
    }
   ],
   "source": [
    "nome * 4"
   ]
  },
  {
   "cell_type": "code",
   "execution_count": 16,
   "id": "0761ea5d-9db2-4b22-b7a7-56e5f5919519",
   "metadata": {},
   "outputs": [
    {
     "data": {
      "text/plain": [
       "'G'"
      ]
     },
     "execution_count": 16,
     "metadata": {},
     "output_type": "execute_result"
    }
   ],
   "source": [
    "nome[0]"
   ]
  },
  {
   "cell_type": "code",
   "execution_count": 17,
   "id": "91b46fd0-b9e6-4f9c-8275-3c7e2ae4c4fb",
   "metadata": {},
   "outputs": [
    {
     "data": {
      "text/plain": [
       "'Gi'"
      ]
     },
     "execution_count": 17,
     "metadata": {},
     "output_type": "execute_result"
    }
   ],
   "source": [
    "nome[0:2]"
   ]
  },
  {
   "cell_type": "code",
   "execution_count": 18,
   "id": "682324e3-b3c1-42e8-929e-97daf1015999",
   "metadata": {},
   "outputs": [
    {
     "data": {
      "text/plain": [
       "'A'"
      ]
     },
     "execution_count": 18,
     "metadata": {},
     "output_type": "execute_result"
    }
   ],
   "source": [
    "chr(65)"
   ]
  },
  {
   "cell_type": "code",
   "execution_count": 19,
   "id": "f9374bad-488d-4a6f-b628-4ab383dcb4e5",
   "metadata": {},
   "outputs": [
    {
     "data": {
      "text/plain": [
       "'a'"
      ]
     },
     "execution_count": 19,
     "metadata": {},
     "output_type": "execute_result"
    }
   ],
   "source": [
    "chr(97)"
   ]
  },
  {
   "cell_type": "code",
   "execution_count": 20,
   "id": "de31ab6a-1758-4cf3-8ecb-ba1bbd620df9",
   "metadata": {},
   "outputs": [
    {
     "data": {
      "text/plain": [
       "97"
      ]
     },
     "execution_count": 20,
     "metadata": {},
     "output_type": "execute_result"
    }
   ],
   "source": [
    "ord('a')"
   ]
  },
  {
   "cell_type": "code",
   "execution_count": null,
   "id": "a5fb51b1-30de-44f6-b1fd-6b4d3d3923e6",
   "metadata": {},
   "outputs": [],
   "source": []
  }
 ],
 "metadata": {
  "kernelspec": {
   "display_name": "Python 3 (ipykernel)",
   "language": "python",
   "name": "python3"
  },
  "language_info": {
   "codemirror_mode": {
    "name": "ipython",
    "version": 3
   },
   "file_extension": ".py",
   "mimetype": "text/x-python",
   "name": "python",
   "nbconvert_exporter": "python",
   "pygments_lexer": "ipython3",
   "version": "3.12.4"
  }
 },
 "nbformat": 4,
 "nbformat_minor": 5
}
