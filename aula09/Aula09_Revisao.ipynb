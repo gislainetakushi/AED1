{
 "cells": [
  {
   "cell_type": "markdown",
   "metadata": {},
   "source": [
    "![Algoritmos e Estrutura de Dados I](AED1_banner.jpg)"
   ]
  },
  {
   "cell_type": "markdown",
   "metadata": {},
   "source": [
    "## <font color='blue'>Algoritmos e Estrutura de Dados I</font>\n",
    "## <font color='blue'>Aula 9 -  Revisão</font>"
   ]
  },
  {
   "cell_type": "code",
   "execution_count": null,
   "metadata": {},
   "outputs": [],
   "source": [
    "# Versão da Linguagem Python\n",
    "from platform import python_version\n",
    "print('Versão da Linguagem Python Usada Neste Jupyter Notebook:', python_version())"
   ]
  },
  {
   "cell_type": "markdown",
   "metadata": {},
   "source": [
    "## Estrutura sequencial"
   ]
  },
  {
   "cell_type": "markdown",
   "metadata": {},
   "source": [
    "Escreva um programa em Python que solicite ao usuário o valor de dois números, calcule e exiba a soma deles."
   ]
  },
  {
   "cell_type": "code",
   "execution_count": 11,
   "metadata": {},
   "outputs": [
    {
     "name": "stdin",
     "output_type": "stream",
     "text": [
      "Insira um numero:  4\n",
      "Insira mais um numero:  5\n"
     ]
    },
    {
     "name": "stdout",
     "output_type": "stream",
     "text": [
      "9.0\n"
     ]
    }
   ],
   "source": [
    "num1 = float(input(\"Insira um numero: \"))\n",
    "num2 = float(input(\"Insira mais um numero: \"))\n",
    "soma = num1 + num2\n",
    "print(soma)\n"
   ]
  },
  {
   "attachments": {},
   "cell_type": "markdown",
   "metadata": {},
   "source": [
    "Escreva um programa em Python que solicite ao usuário a temperatura em graus Celsius e converta para Fahrenheit. A fórmula para conversão é F = C * 9/5 + 32.\n"
   ]
  },
  {
   "cell_type": "code",
   "execution_count": 17,
   "metadata": {},
   "outputs": [
    {
     "name": "stdin",
     "output_type": "stream",
     "text": [
      "Insira a temperaturam em Celsius:  30\n"
     ]
    },
    {
     "name": "stdout",
     "output_type": "stream",
     "text": [
      "A conversão de 30.0 C é 86.0\n"
     ]
    }
   ],
   "source": [
    "celsius= float(input(\"Insira a temperaturam em Celsius: \"))\n",
    "F = ((celsius* 9 )/ 5) + 32\n",
    "print(f\"A conversão de {celsius} C é {F}\")"
   ]
  },
  {
   "cell_type": "markdown",
   "metadata": {},
   "source": [
    "## Estrutura Condicional"
   ]
  },
  {
   "cell_type": "markdown",
   "metadata": {},
   "source": [
    "Escreva um programa em Python que solicite ao usuário um número e verifique se ele é positivo, negativo ou zero. Exiba a mensagem correspondente.\n"
   ]
  },
  {
   "cell_type": "code",
   "execution_count": 7,
   "metadata": {},
   "outputs": [
    {
     "name": "stdin",
     "output_type": "stream",
     "text": [
      "Digite um numero:  0\n"
     ]
    },
    {
     "name": "stdout",
     "output_type": "stream",
     "text": [
      "Esse numero é zero\n"
     ]
    }
   ],
   "source": [
    "num = float(input(\"Digite um numero: \"))\n",
    "if num >0:\n",
    "    print(\"O numero é positivo\")\n",
    "elif num < 0 :\n",
    "    print(\"O numero é negativo\")\n",
    "else:\n",
    "    print(\"Esse numero é zero\")\n",
    "    "
   ]
  },
  {
   "cell_type": "markdown",
   "metadata": {},
   "source": [
    "Escreva um programa em Python que solicite ao usuário três números e determine qual é o maior entre eles.\n"
   ]
  },
  {
   "cell_type": "code",
   "execution_count": 9,
   "metadata": {},
   "outputs": [
    {
     "name": "stdin",
     "output_type": "stream",
     "text": [
      "Insira um numero:  45\n",
      "Insira o segundo numero:  6\n",
      "Insira o terceiro numero:  80\n"
     ]
    },
    {
     "name": "stdout",
     "output_type": "stream",
     "text": [
      "O 80.0 é o maior\n"
     ]
    }
   ],
   "source": [
    "num1 = float(input(\"Insira um numero: \"))\n",
    "num2 = float(input(\"Insira o segundo numero: \"))\n",
    "num3 = float(input(\"Insira o terceiro numero: \"))\n",
    "if num1 > num2 and num1 > num3:\n",
    "    print(f\"O {num1} é o maior \")\n",
    "elif num1 < num2 and num2 > num3:\n",
    "    print(f\"O {num2} é o maior\")\n",
    "elif num1 < num3 and num2 < num3:\n",
    "    print(f\"O {num3} é o maior\")\n",
    "else: \n",
    "    print(\"Os numeros são iguais\")\n"
   ]
  },
  {
   "cell_type": "markdown",
   "metadata": {},
   "source": [
    "## Estrutura de Repetição"
   ]
  },
  {
   "cell_type": "markdown",
   "metadata": {},
   "source": [
    "Escreva um programa em Python que solicite um número inteiro positivo de 1 a 9 (você tem que verificar se o usuario não digitou fora desse intervalo)e em seguida, deve exibir a tabudada desse número.\n"
   ]
  },
  {
   "cell_type": "code",
   "execution_count": 20,
   "metadata": {},
   "outputs": [
    {
     "name": "stdin",
     "output_type": "stream",
     "text": [
      "Insira um número inteiro positivo de 0 a 9:  3\n"
     ]
    },
    {
     "name": "stdout",
     "output_type": "stream",
     "text": [
      " 1 x  3.0 =  3.0\n",
      " 2 x  3.0 =  6.0\n",
      " 3 x  3.0 =  9.0\n",
      " 4 x  3.0 = 12.0\n",
      " 5 x  3.0 = 15.0\n",
      " 6 x  3.0 = 18.0\n",
      " 7 x  3.0 = 21.0\n",
      " 8 x  3.0 = 24.0\n",
      " 9 x  3.0 = 27.0\n",
      "10 x  3.0 = 30.0\n"
     ]
    }
   ],
   "source": [
    "while True:\n",
    "    digitacao = input(\"Insira um número inteiro positivo de 0 a 9: \")\n",
    "    if digitacao.isnumeric():\n",
    "        numero = float(digitacao)\n",
    "        if numero>=1 and numero<=9:\n",
    "            break\n",
    "        else:\n",
    "            print(\"Digite um valor entre 1 e 9!\")\n",
    "    else:\n",
    "        print(\"O que foi digitado não é um número! Repita!\")\n",
    "\n",
    "for i in range (1,11):\n",
    "    print(f\"{i:2d} x {numero:4.1f} = {(i * numero):4.1f}\")"
   ]
  },
  {
   "cell_type": "markdown",
   "metadata": {},
   "source": [
    "Escreva um programa em Python que solicite ao usuário um número inteiro positivo e calcule o fatorial desse número.\n"
   ]
  },
  {
   "cell_type": "code",
   "execution_count": 21,
   "metadata": {},
   "outputs": [
    {
     "name": "stdin",
     "output_type": "stream",
     "text": [
      "Insira um numero inteiro positivo:  5\n"
     ]
    },
    {
     "name": "stdout",
     "output_type": "stream",
     "text": [
      "O fatorial de 5 é 120\n"
     ]
    }
   ],
   "source": [
    "numero = int(input(\"Insira um numero inteiro positivo: \"))\n",
    "fatorial = 1 \n",
    "if numero <0:\n",
    "    print(\"Esse fatorial não existe\")\n",
    "elif numero == 0:\n",
    "    print(\"O resultado do fatorial de zero é 1\")\n",
    "else:\n",
    "    for i in range(1,numero+1):\n",
    "        fatorial = fatorial * i\n",
    "print(f\"O fatorial de {numero} é {fatorial}\")\n",
    "    "
   ]
  },
  {
   "cell_type": "markdown",
   "metadata": {},
   "source": [
    "## Geral"
   ]
  },
  {
   "cell_type": "markdown",
   "metadata": {},
   "source": [
    "Você é um cientista de dados e precisa analisar as notas de um conjunto de estudantes em uma disciplina. Você deverá escrever um programa em Python que solicite ao usuário o número de estudantes e, em seguida, as notas desses estudantes. O programa deve calcular e exibir:\n",
    "\n",
    "- A média das notas.\n",
    "- A maior e a menor nota.\n",
    "- O número de estudantes aprovados (nota maior ou igual a 6) e reprovados (nota menor que 6).\n",
    "\n",
    "Regras:\n",
    "\n",
    "- Utilize variáveis simples para armazenar as informações.\n",
    "- Utilize estruturas de repetição para coletar as notas dos estudantes.\n",
    "- Utilize estruturas condicionais para determinar o status de aprovação dos estudantes."
   ]
  },
  {
   "cell_type": "code",
   "execution_count": 24,
   "metadata": {},
   "outputs": [
    {
     "name": "stdin",
     "output_type": "stream",
     "text": [
      "Digite o total de estudantes:  5\n",
      "Entre com a nota o aluno 1:  5.6\n",
      "Entre com a nota o aluno 2:  7.8\n",
      "Entre com a nota o aluno 3:  6.6\n",
      "Entre com a nota o aluno 4:  2.6\n",
      "Entre com a nota o aluno 5:  3.5\n"
     ]
    },
    {
     "name": "stdout",
     "output_type": "stream",
     "text": [
      "A média das notas é igual a: 5.220000000000001\n",
      "A menor nota é igual a: 2.6\n",
      "A maior nota é igual a: 7.8\n",
      "O número de aprovados é: 2\n",
      "O número de resprovados é: 3\n"
     ]
    }
   ],
   "source": [
    "qtd_alunos = int(input(\"Digite o total de estudantes: \"))\n",
    "soma_notas = 0\n",
    "maior = 0\n",
    "menor = 10\n",
    "qtd_aprov = 0\n",
    "qtd_repro = 0\n",
    "\n",
    "for i in range(qtd_alunos):\n",
    "    nota = float(input(f\"Entre com a nota o aluno {i+1}: \"))\n",
    "    if nota >= 6:\n",
    "        qtd_aprov += 1 \n",
    "    else:\n",
    "        qtd_repro += 1\n",
    "    if nota > maior:\n",
    "        maior = nota\n",
    "    if nota < menor :\n",
    "        menor = nota\n",
    "    soma_notas += nota\n",
    "\n",
    "media = soma_notas / qtd_alunos    \n",
    "print(f\"A média das notas é igual a: {media}\")\n",
    "print(f\"A menor nota é igual a: {menor}\")\n",
    "print(f\"A maior nota é igual a: {maior}\")\n",
    "print(f\"O número de aprovados é: {qtd_aprov}\")\n",
    "print(f\"O número de resprovados é: {qtd_repro}\")\n",
    "        "
   ]
  },
  {
   "cell_type": "markdown",
   "metadata": {},
   "source": [
    "Faça um programa que receba um número inteiro positivo e transforme esse número para binário."
   ]
  },
  {
   "cell_type": "code",
   "execution_count": 25,
   "metadata": {},
   "outputs": [
    {
     "name": "stdin",
     "output_type": "stream",
     "text": [
      "Digite um numero na base 10:  131\n"
     ]
    },
    {
     "name": "stdout",
     "output_type": "stream",
     "text": [
      "O número 131 em binario é:  10000011 \n"
     ]
    }
   ],
   "source": [
    "numero = int(input(\"Digite um numero na base 10: \"))\n",
    "b = ' '\n",
    "n = numero \n",
    "\n",
    "if numero == 0 :\n",
    "    b = '0'\n",
    "else:\n",
    "    while numero > 0:\n",
    "        resto = numero % 2\n",
    "        digito = str(resto)\n",
    "        b = digito + b \n",
    "        numero = numero // 2\n",
    "print(f\"O número {n} em binario é: \", b)        \n",
    "        \n",
    "    \n",
    "        "
   ]
  },
  {
   "cell_type": "markdown",
   "metadata": {},
   "source": [
    "## Fim da Aula 9"
   ]
  }
 ],
 "metadata": {
  "kernelspec": {
   "display_name": "Python 3 (ipykernel)",
   "language": "python",
   "name": "python3"
  },
  "language_info": {
   "codemirror_mode": {
    "name": "ipython",
    "version": 3
   },
   "file_extension": ".py",
   "mimetype": "text/x-python",
   "name": "python",
   "nbconvert_exporter": "python",
   "pygments_lexer": "ipython3",
   "version": "3.12.4"
  }
 },
 "nbformat": 4,
 "nbformat_minor": 4
}
